{
 "cells": [
  {
   "cell_type": "code",
   "execution_count": null,
   "metadata": {},
   "outputs": [],
   "source": [
    "# Develop a Python script to read a CSV file containing user transacƟon data:\n",
    "# Copy code\n",
    "# transacƟon_id,user_id,amount,transacƟon_date\n",
    "# 1,101,500,2024-11-01\n",
    "# 2,102,1500,2024-11-05\n",
    "# 3,101,700,2024-11-10 "
   ]
  },
  {
   "cell_type": "code",
   "execution_count": 10,
   "metadata": {},
   "outputs": [],
   "source": [
    "import pandas as pd\n",
    "df = pd.read_csv('transaction.csv')\n",
    "df.head()\n",
    "df.isna().sum()\n",
    "df['amount']=df['amount'].fillna(df.amount.mean())\n",
    "user_totals = df.groupby('user_id').sum('amount').reset_index()[['user_id','amount']]\n",
    "user_totals.to_csv('user_total.csv')"
   ]
  },
  {
   "cell_type": "code",
   "execution_count": null,
   "metadata": {},
   "outputs": [
    {
     "name": "stdout",
     "output_type": "stream",
     "text": [
      "[{'city': 'Hyderabad', 'temperature': 30, 'humidity': 60}]\n"
     ]
    }
   ],
   "source": [
    "weather_api = \"http://www.weatherapi.com\"\n",
    "all_weather_data = []\n",
    "import requests\n",
    "from requests.exceptions import ConnectTimeout\n",
    "from time import sleep\n",
    "import json\n",
    "\n",
    "\n",
    "def retry_on_connection_timeout(api):\n",
    "    retries = 3\n",
    "    for _ in range(retries):\n",
    "        try:\n",
    "            response = requests.get(api)\n",
    "            response = [{\"city\": \"Hyderabad\", \"temperature\": 30, \"humidity\": 60}]\n",
    "            return response\n",
    "        except ConnectTimeout as timeout:\n",
    "            print(f\"Connection timed out, retrying...\")\n",
    "            sleep(5)\n",
    "    print(\"Failed to fetch data after all retries.\")\n",
    "    return False\n",
    "\n",
    "\n",
    "def get_weather_data(api):\n",
    "    try:\n",
    "        response = retry_on_connection_timeout(api)\n",
    "\n",
    "        if response and response.status_code == 200:\n",
    "            # getting all weather data from different cities\n",
    "            data = response.json()\n",
    "            for city_data in data:\n",
    "\n",
    "                city_specific_data = {}\n",
    "                city_specific_data[\"city\"] = city_data[\"city\"]\n",
    "                city_specific_data[\"temperature\"] = city_data[\"temperature\"]\n",
    "                city_specific_data[\"humidity\"] = city_data[\"humidity\"]\n",
    "\n",
    "                all_weather_data.append(city_specific_data)\n",
    "            print(all_weather_data)\n",
    "        if all_weather_data:\n",
    "            with open('weather_report.json','w+') as f:\n",
    "                f.write(json.dumps(all_weather_data))\n",
    "    except Exception as e:\n",
    "        print(f\"Error occurred while fetching weather data: {e}\")\n",
    "\n",
    "get_weather_data(weather_api)"
   ]
  },
  {
   "cell_type": "code",
   "execution_count": null,
   "metadata": {},
   "outputs": [],
   "source": []
  },
  {
   "cell_type": "code",
   "execution_count": null,
   "metadata": {},
   "outputs": [],
   "source": []
  }
 ],
 "metadata": {
  "kernelspec": {
   "display_name": "env",
   "language": "python",
   "name": "python3"
  },
  "language_info": {
   "codemirror_mode": {
    "name": "ipython",
    "version": 3
   },
   "file_extension": ".py",
   "mimetype": "text/x-python",
   "name": "python",
   "nbconvert_exporter": "python",
   "pygments_lexer": "ipython3",
   "version": "3.12.7+"
  }
 },
 "nbformat": 4,
 "nbformat_minor": 2
}
